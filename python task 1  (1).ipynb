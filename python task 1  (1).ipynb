{
 "cells": [
  {
   "cell_type": "markdown",
   "id": "205e8e81-4684-4362-9c0c-72b03685a736",
   "metadata": {},
   "source": [
    "Task No 1"
   ]
  },
  {
   "cell_type": "markdown",
   "id": "2e72bdc7-ada3-417a-88d0-8d4862618314",
   "metadata": {},
   "source": [
    "Create a function which will take a list as an argument and return the product of all the number after creating a flat list.\n",
    "Use the below-given list as an argument for your function.\n",
    "\n",
    "lst1 = [1,2,3,5,[44,55,66,True],False,(34,56,78,89,34),{1,2,3,3,2,1},{1:34,'key2':[55,67,78,89],4:(45,22,61,34)},[56,'data science'],'Machine Learning']"
   ]
  },
  {
   "cell_type": "code",
   "execution_count": 1,
   "id": "54ad391c-6102-4892-bd69-e4efcc9ff720",
   "metadata": {},
   "outputs": [],
   "source": [
    "def flat_func(given_collection):\n",
    "    flat_list=[]\n",
    "    for each_element in given_collection:\n",
    "        if type(each_element)==int or type(each_element)==float:\n",
    "            flat_list.append(each_element)\n",
    "        #elif type(each_element)==bool:\n",
    "         #   flat_list.append(int(each_element))\n",
    "        elif type(each_element)==list or type(each_element)==set or type(each_element)==tuple:\n",
    "            flat_list.extend(flat_func(each_element))\n",
    "        elif type(each_element)==dict:\n",
    "            for each_nested_element in each_element.keys():\n",
    "                if type(each_nested_element)==int or type(each_nested_element)==float:\n",
    "                    flat_list.append(each_nested_element)\n",
    "            for each_nested_element in each_element.values():\n",
    "                if type(each_nested_element)==int or type(each_nested_element)==float:\n",
    "                    flat_list.append(each_nested_element)\n",
    "                elif type(each_nested_element)==list or type(each_nested_element)==tuple or type(each_nested_element)==set:\n",
    "                    flat_list.extend(flat_func(each_nested_element))\n",
    "            \n",
    "    return flat_list"
   ]
  },
  {
   "cell_type": "code",
   "execution_count": 2,
   "id": "813a08d4-8acc-47c3-b0fc-1da16a58c686",
   "metadata": {},
   "outputs": [
    {
     "name": "stdout",
     "output_type": "stream",
     "text": [
      "Flat List:  [1, 2, 3, 4, 44, 55, 66, 34, 56, 78, 89, 34, 1, 2, 3, 1, 4, 34, 55, 67, 78, 89, 45, 22, 61, 34, 56]\n",
      "Product of all the numbers:  4134711838987085478833841242112000\n"
     ]
    }
   ],
   "source": [
    "given_list = [1,2,3,4,[44,55,66,True],False,(34,56,78,89,34),{1,2,3,3,2,1},{1:34,'key2':[55,67,78,89],4:(45,22,61,34)},[56,'data science'],'Machine Learning']\n",
    "\n",
    "flat_list=flat_func(given_list)\n",
    "\n",
    "result = 1\n",
    "for each_element in flat_list:\n",
    "    result = result*each_element\n",
    "\n",
    "print('Flat List: ', flat_list)\n",
    "print('Product of all the numbers: ',result)"
   ]
  },
  {
   "cell_type": "markdown",
   "id": "563442f8-c164-4b91-a009-f3ddb25c1179",
   "metadata": {},
   "source": [
    "Task No 2"
   ]
  },
  {
   "cell_type": "markdown",
   "id": "01aa1117-4960-4a52-913b-9ee740fa0c03",
   "metadata": {},
   "source": [
    "Write a Python program for encrypting a message sent to you by your friend. The logic of encryption should be such that, for a the output should be z. For b, the output should by y. For c, the output should be x repectively. Also, the whitespace should be replaced with a dollar sign. Keep the punctuation marks unchanged.\n",
    "\n",
    "Input Sentence: I want to become a Data Scientist.\n",
    "\n",
    "Encrypt the above input sentence using the program you just created."
   ]
  },
  {
   "cell_type": "markdown",
   "id": "72db459f-e1ec-4c65-80bf-0563d9dbba96",
   "metadata": {},
   "source": [
    "Method1 "
   ]
  },
  {
   "cell_type": "code",
   "execution_count": 3,
   "id": "60c88347-dab7-4f4d-a7d6-a78e26fc6d68",
   "metadata": {},
   "outputs": [
    {
     "name": "stdout",
     "output_type": "stream",
     "text": [
      "r$dzmg$gl$yvxlnv$z$wzgz$hxrvmgrhg\n"
     ]
    }
   ],
   "source": [
    "def encrypt_message(string):\n",
    "    \"\"\"\n",
    "    This function encrypts input string\n",
    "    \"\"\"\n",
    "    string = string.lower()\n",
    "    trans_letters = str.maketrans('abcdefghijklmnopqrstuvwxyz','zyxwvutsrqponmlkjihgfedcba')\n",
    "    encrypted_string = string.translate(trans_letters)\n",
    "    encrypted_string = encrypted_string.replace(' ', '$')\n",
    "    return encrypted_string\n",
    "\n",
    "string = 'I want to become a Data Scientist'\n",
    "print(encrypt_message(string))"
   ]
  },
  {
   "cell_type": "markdown",
   "id": "2d90fca3-2424-48bb-833a-7501dddc483a",
   "metadata": {},
   "source": [
    "Method 2"
   ]
  },
  {
   "cell_type": "code",
   "execution_count": 4,
   "id": "c16769fd-ccde-46a2-9a4b-e52f2a753595",
   "metadata": {},
   "outputs": [
    {
     "name": "stdout",
     "output_type": "stream",
     "text": [
      "r$dzmg$gl$yvxlnv$z$wzgz$hxrvmgrhg\n"
     ]
    }
   ],
   "source": [
    "def encrypt_message(message):\n",
    "    \"\"\"\n",
    "    This function encrypts input string\n",
    "    \"\"\"\n",
    "    message = message.lower()\n",
    "    letters_asc= ['a','b','c','d','e','f','g','h','i','j','k','l','m','n','o','p','q','r','s','t','u','v','w','x','y','z']\n",
    "    letters_des = sorted(letters_asc, reverse=True)\n",
    "    encrypted_message = ''\n",
    "    for letter in message:\n",
    "        if letter in letters_asc:\n",
    "            pos_in_asc = letters_asc.index(letter)\n",
    "            let_at_des = letters_des[pos_in_asc]\n",
    "            encrypted_message=encrypted_message+let_at_des\n",
    "        elif letter==' ':\n",
    "            encrypted_message=encrypted_message+'$'\n",
    "    return encrypted_message\n",
    "\n",
    "message = 'I want to become a Data Scientist'\n",
    "print(encrypt_message(message))"
   ]
  },
  {
   "cell_type": "code",
   "execution_count": null,
   "id": "e74332b1-6217-4976-9a20-38e8b53a1ac3",
   "metadata": {},
   "outputs": [],
   "source": []
  }
 ],
 "metadata": {
  "kernelspec": {
   "display_name": "Python 3 (ipykernel)",
   "language": "python",
   "name": "python3"
  },
  "language_info": {
   "codemirror_mode": {
    "name": "ipython",
    "version": 3
   },
   "file_extension": ".py",
   "mimetype": "text/x-python",
   "name": "python",
   "nbconvert_exporter": "python",
   "pygments_lexer": "ipython3",
   "version": "3.10.8"
  }
 },
 "nbformat": 4,
 "nbformat_minor": 5
}
